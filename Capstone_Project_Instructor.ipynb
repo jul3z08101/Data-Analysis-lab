{
  "nbformat": 4,
  "nbformat_minor": 0,
  "metadata": {
    "colab": {
      "provenance": [],
      "authorship_tag": "ABX9TyPXBeepi9shx67U/WRUSSQZ",
      "include_colab_link": true
    },
    "kernelspec": {
      "name": "python3",
      "display_name": "Python 3"
    },
    "language_info": {
      "name": "python"
    }
  },
  "cells": [
    {
      "cell_type": "markdown",
      "metadata": {
        "id": "view-in-github",
        "colab_type": "text"
      },
      "source": [
        "<a href=\"https://colab.research.google.com/github/jul3z08101/Data-Analysis-lab/blob/main/Capstone_Project_Instructor.ipynb\" target=\"_parent\"><img src=\"https://colab.research.google.com/assets/colab-badge.svg\" alt=\"Open In Colab\"/></a>"
      ]
    },
    {
      "cell_type": "code",
      "source": [
        "def certificate(name):\n",
        "    print(\"************************************\")\n",
        "    print(\"*                                  *\")\n",
        "    print(\"*          CERTIFICATE OF          *\")\n",
        "    print(\"*            ACHIEVEMENT           *\")\n",
        "    print(\"*                                  *\")\n",
        "    print(\"************************************\")\n",
        "    print()\n",
        "    print(\"This certifies that\")\n",
        "    print()\n",
        "    print(f\"      {name.upper()}\")\n",
        "    print()\n",
        "    print(\"has successfully completed the AI Explorer Bootcamp!\")\n",
        "    print()\n",
        "    print(\"Date: August, 2024\")\n",
        "    print()\n",
        "    print(\"Signature: ________________________\")\n",
        "    print()\n",
        "    print(\"Congratulations!\")\n",
        "    print(\"Keep up the great work!\")\n"
      ],
      "metadata": {
        "id": "eYNz1L3KORyI"
      },
      "execution_count": null,
      "outputs": []
    },
    {
      "cell_type": "markdown",
      "source": [
        "\n",
        "\n",
        "```\n",
        "# This is formatted as code\n",
        "```\n",
        "\n",
        "# **NBA Predictions Machine Learning Model**"
      ],
      "metadata": {
        "id": "h0emi9qfAAMc"
      }
    },
    {
      "cell_type": "markdown",
      "source": [
        "Our data contains a list of NBA players with their points, assists, rebounds, and if they're All-Stars. Let's see what we can learn from this data: <br>\n",
        "\n",
        "\n",
        "1.   Points, Assists, Rebounds: These numbers tell us how good a player is at scoring, helping others score (assists), and grabbing the ball after a missed shot (rebounds).\n",
        "\n",
        "\n",
        "\n"
      ],
      "metadata": {
        "id": "zgtZDw5vBYIT"
      }
    },
    {
      "cell_type": "markdown",
      "source": [
        "Let's create a machine learning model that can predict if a college basketball player will make an NBA team based on their stats."
      ],
      "metadata": {
        "id": "Xv03FjpmAPv9"
      }
    },
    {
      "cell_type": "markdown",
      "source": [
        "We'll use a KNN (K-Nearest Neighbors) model to predict if a new player might become an NBA star!"
      ],
      "metadata": {
        "id": "W8PlkgyQB0rk"
      }
    },
    {
      "cell_type": "markdown",
      "source": [
        "\n",
        "\n",
        "---\n",
        "\n"
      ],
      "metadata": {
        "id": "iu6I5rY6BnzF"
      }
    },
    {
      "cell_type": "code",
      "execution_count": null,
      "metadata": {
        "id": "xPIUZrFJ_grN"
      },
      "outputs": [],
      "source": [
        "import pandas as pd\n",
        "import matplotlib.pyplot as plt\n",
        "from sklearn.model_selection import train_test_split\n",
        "from sklearn.neighbors import KNeighborsClassifier\n",
        "from sklearn.metrics import accuracy_score"
      ]
    },
    {
      "cell_type": "code",
      "source": [
        "nba_data = [\n",
        "    # [Player, Points, Assists, Rebounds, All-Star, Height(feet), Weight(pounds), Age]\n",
        "    [\"LeBron James\", 20, 5, 8, 1, 6.8, 250, 36],\n",
        "    [\"Stephen Curry\", 25, 6, 10, 1, 6.3, 185, 33],\n",
        "    [\"Kevin Durant\", 15, 7, 6, 0, 6.10, 240, 33],\n",
        "    [\"Kyrie Irving\", 30, 4, 9, 1, 6.2, 195, 29],\n",
        "    [\"Jayson Tatum\", 18, 8, 7, 0, 6.8, 220, 23],\n",
        "    [\"Kawhi Leonard\", 22, 5, 8, 1, 6.7, 225, 30],\n",
        "    [\"Giannis Antetokounmpo\", 26, 6, 11, 1, 6.11, 242, 27],\n",
        "    [\"James Harden\", 12, 3, 5, 0, 6.5, 220, 32],\n",
        "    [\"Joel Embiid\", 28, 7, 10, 1, 7.0, 280, 27],\n",
        "    [\"Devin Booker\", 14, 4, 6, 0, 6.6, 206, 25],\n",
        "    [\"Jimmy Butler\", 24, 5, 9, 1, 6.7, 230, 32],\n",
        "    [\"Damian Lillard\", 17, 6, 8, 0, 6.2, 195, 31],\n",
        "    [\"Luka Doncic\", 21, 4, 7, 1, 6.7, 230, 22],\n",
        "    [\"Pascal Siakam\", 29, 8, 12, 1, 6.9, 230, 27],\n",
        "    [\"Zion Williamson\", 16, 7, 9, 0, 6.6, 284, 21],\n",
        "    [\"Domantas Sabonis\", 23, 5, 10, 1, 6.11, 240, 25],\n",
        "    [\"Trae Young\", 27, 6, 11, 1, 6.1, 180, 23],\n",
        "    [\"De'Aaron Fox\", 13, 4, 6, 0, 6.3, 185, 24],\n",
        "    [\"Shai Gilgeous-Alexander\", 31, 7, 12, 1, 6.5, 181, 23],\n",
        "    [\"LaMelo Ball\", 19, 5, 8, 0, 6.6, 181, 20]\n",
        "]\n",
        "\n",
        "# Creating a DataFrame\n",
        "columns = [\"Player\", \"Points\", \"Assists\", \"Rebounds\", \"All-Star\", \"Height\", \"Weight\", \"Age\"]\n",
        "df = pd.DataFrame(nba_data, columns=columns)"
      ],
      "metadata": {
        "id": "FDw3pkXKC1M5"
      },
      "execution_count": null,
      "outputs": []
    },
    {
      "cell_type": "markdown",
      "source": [
        "## **Data Exploration**"
      ],
      "metadata": {
        "id": "NQq3zeECCUt6"
      }
    },
    {
      "cell_type": "markdown",
      "source": [
        "**Let's do some basic Exploratory Data Analysis (EDA) on our NBA dataset. We'll explore the distributions of points, assists, rebounds, heights, weights, and ages among the NBA players.**"
      ],
      "metadata": {
        "id": "C-knC6IPChrG"
      }
    },
    {
      "cell_type": "markdown",
      "source": [
        "Display the basic information about your data"
      ],
      "metadata": {
        "id": "9iPoYiDLDa8S"
      }
    },
    {
      "cell_type": "code",
      "source": [
        "print(\"NBA Players Info:\")\n",
        "#Type your code here"
      ],
      "metadata": {
        "colab": {
          "base_uri": "https://localhost:8080/"
        },
        "id": "BYOj0WWHCu9D",
        "outputId": "fbe8050c-4043-4d8e-ab44-a1b37118332f"
      },
      "execution_count": null,
      "outputs": [
        {
          "output_type": "stream",
          "name": "stdout",
          "text": [
            "NBA Players Info:\n"
          ]
        }
      ]
    },
    {
      "cell_type": "markdown",
      "source": [
        "Solution:"
      ],
      "metadata": {
        "id": "ftrQYvWGDjLf"
      }
    },
    {
      "cell_type": "code",
      "source": [
        "print(\"NBA Players Info:\")\n",
        "print(df.info())"
      ],
      "metadata": {
        "colab": {
          "base_uri": "https://localhost:8080/"
        },
        "id": "Bm-APOU6DlXx",
        "outputId": "5585ebf2-7898-45a0-d9c1-b8333904279d"
      },
      "execution_count": null,
      "outputs": [
        {
          "output_type": "stream",
          "name": "stdout",
          "text": [
            "NBA Players Info:\n",
            "<class 'pandas.core.frame.DataFrame'>\n",
            "RangeIndex: 20 entries, 0 to 19\n",
            "Data columns (total 8 columns):\n",
            " #   Column    Non-Null Count  Dtype  \n",
            "---  ------    --------------  -----  \n",
            " 0   Player    20 non-null     object \n",
            " 1   Points    20 non-null     int64  \n",
            " 2   Assists   20 non-null     int64  \n",
            " 3   Rebounds  20 non-null     int64  \n",
            " 4   All-Star  20 non-null     int64  \n",
            " 5   Height    20 non-null     float64\n",
            " 6   Weight    20 non-null     int64  \n",
            " 7   Age       20 non-null     int64  \n",
            "dtypes: float64(1), int64(6), object(1)\n",
            "memory usage: 1.4+ KB\n",
            "None\n"
          ]
        }
      ]
    },
    {
      "cell_type": "markdown",
      "source": [
        "Describe the statistics of the data"
      ],
      "metadata": {
        "id": "tX6pN9gRDyn_"
      }
    },
    {
      "cell_type": "code",
      "source": [
        "print(\"Statistics:\")\n",
        "#Type your code here"
      ],
      "metadata": {
        "colab": {
          "base_uri": "https://localhost:8080/"
        },
        "id": "aXCFgC8QDx-G",
        "outputId": "a3c92b3b-5728-4308-80ad-cea73a728cf2"
      },
      "execution_count": null,
      "outputs": [
        {
          "output_type": "stream",
          "name": "stdout",
          "text": [
            "Statistics:\n"
          ]
        }
      ]
    },
    {
      "cell_type": "markdown",
      "source": [
        "Solution:"
      ],
      "metadata": {
        "id": "T3r4rEU7D4cP"
      }
    },
    {
      "cell_type": "code",
      "source": [
        "print(\"Statistics:\")\n",
        "print(df.describe())"
      ],
      "metadata": {
        "colab": {
          "base_uri": "https://localhost:8080/"
        },
        "id": "Wawul9ggD5x5",
        "outputId": "5f0bdacf-104a-4101-a168-908c488dde15"
      },
      "execution_count": null,
      "outputs": [
        {
          "output_type": "stream",
          "name": "stdout",
          "text": [
            "Statistics:\n",
            "         Points    Assists   Rebounds   All-Star     Height      Weight  \\\n",
            "count  20.00000  20.000000  20.000000  20.000000  20.000000   20.000000   \n",
            "mean   21.50000   5.600000   8.600000   0.600000   6.491000  219.950000   \n",
            "std     5.91608   1.429022   2.062191   0.502625   0.292231   31.408137   \n",
            "min    12.00000   3.000000   5.000000   0.000000   6.100000  180.000000   \n",
            "25%    16.75000   4.750000   7.000000   0.000000   6.200000  192.500000   \n",
            "50%    21.50000   5.500000   8.500000   1.000000   6.550000  222.500000   \n",
            "75%    26.25000   7.000000  10.000000   1.000000   6.700000  240.000000   \n",
            "max    31.00000   8.000000  12.000000   1.000000   7.000000  284.000000   \n",
            "\n",
            "             Age  \n",
            "count  20.000000  \n",
            "mean   27.150000  \n",
            "std     4.625729  \n",
            "min    20.000000  \n",
            "25%    23.000000  \n",
            "50%    27.000000  \n",
            "75%    31.250000  \n",
            "max    36.000000  \n"
          ]
        }
      ]
    },
    {
      "cell_type": "markdown",
      "source": [
        "Let's Count the players"
      ],
      "metadata": {
        "id": "Z4jo97AVEGZs"
      }
    },
    {
      "cell_type": "code",
      "source": [
        "\n",
        "player_count = df['All-Star'].#Complete the code\n",
        "print(\"Count of layers:\")\n",
        "print(player_count)"
      ],
      "metadata": {
        "colab": {
          "base_uri": "https://localhost:8080/",
          "height": 106
        },
        "id": "aaMpRJPBEIQq",
        "outputId": "690bcae7-61c6-469b-81da-de9bedea2fb9"
      },
      "execution_count": null,
      "outputs": [
        {
          "output_type": "error",
          "ename": "SyntaxError",
          "evalue": "invalid syntax (<ipython-input-13-ba185005eab5>, line 1)",
          "traceback": [
            "\u001b[0;36m  File \u001b[0;32m\"<ipython-input-13-ba185005eab5>\"\u001b[0;36m, line \u001b[0;32m1\u001b[0m\n\u001b[0;31m    player_count = df['All-Star'].#Complete the code\u001b[0m\n\u001b[0m                                  ^\u001b[0m\n\u001b[0;31mSyntaxError\u001b[0m\u001b[0;31m:\u001b[0m invalid syntax\n"
          ]
        }
      ]
    },
    {
      "cell_type": "markdown",
      "source": [
        "Solutions:"
      ],
      "metadata": {
        "id": "lZ0G5wUREJmh"
      }
    },
    {
      "cell_type": "code",
      "source": [
        "player_count = df['All-Star'].value_counts()\n",
        "print(\"Count of layers:\")\n",
        "print(player_count)"
      ],
      "metadata": {
        "colab": {
          "base_uri": "https://localhost:8080/"
        },
        "id": "aEhXGIoTEKxU",
        "outputId": "1f8f537f-d4e0-4781-9aed-e7b424458653"
      },
      "execution_count": null,
      "outputs": [
        {
          "output_type": "stream",
          "name": "stdout",
          "text": [
            "Count of layers:\n",
            "All-Star\n",
            "1    12\n",
            "0     8\n",
            "Name: count, dtype: int64\n"
          ]
        }
      ]
    },
    {
      "cell_type": "markdown",
      "source": [
        "## **Visualize your data**"
      ],
      "metadata": {
        "id": "BxtohisXEpfD"
      }
    },
    {
      "cell_type": "markdown",
      "source": [
        "Lets create a visual of the all start column of our data"
      ],
      "metadata": {
        "id": "kqsDRJaeFAKF"
      }
    },
    {
      "cell_type": "code",
      "source": [
        "plt.figure(figsize=(6, 4))\n",
        "player_count.plot(kind='bar', color=['skyblue', 'salmon'])\n",
        "plt.title(\"All-Star Players\")\n",
        "plt.xlabel(\"All-Star Status\")\n",
        "plt.ylabel(\"Number of Players\")\n",
        "plt.xticks([0, 1], ['Not All-Star', 'All-Star'], rotation=0)\n",
        "plt.show()"
      ],
      "metadata": {
        "id": "GGcA5_7OEshe"
      },
      "execution_count": null,
      "outputs": []
    },
    {
      "cell_type": "markdown",
      "source": [
        "Solution:"
      ],
      "metadata": {
        "id": "BC10tHRHEv_F"
      }
    },
    {
      "cell_type": "code",
      "source": [
        "plt.figure(figsize=(6, 4))\n",
        "player_count.plot(kind='bar', color=['skyblue', 'salmon'])\n",
        "plt.title(\"All-Star Players\")\n",
        "plt.xlabel(\"All-Star Status\")\n",
        "plt.ylabel(\"Number of Players\")\n",
        "plt.xticks([0, 1], ['Not All-Star', 'All-Star'], rotation=0)\n",
        "plt.show()"
      ],
      "metadata": {
        "colab": {
          "base_uri": "https://localhost:8080/",
          "height": 410
        },
        "id": "9YRl2b38ExXC",
        "outputId": "01e72234-a9b0-4336-db23-d7265e3e53a1"
      },
      "execution_count": null,
      "outputs": [
        {
          "output_type": "display_data",
          "data": {
            "text/plain": [
              "<Figure size 600x400 with 1 Axes>"
            ],
            "image/png": "[encoded data removed]"
          },
          "metadata": {}
        }
      ]
    },
    {
      "cell_type": "markdown",
      "source": [
        "# **Time to create our model!**"
      ],
      "metadata": {
        "id": "FrLekkGEFIhG"
      }
    },
    {
      "cell_type": "markdown",
      "source": [
        "**Seperating the Features**"
      ],
      "metadata": {
        "id": "w_o3tysiFwuN"
      }
    },
    {
      "cell_type": "code",
      "source": [
        "\n",
        "X = [[row[1], row[2], row[3], row[5], row[6], row[7]] for row in nba_data]\n",
        "y = [row[4] for row in nba_data]\n",
        "\n",
        "X_train, X_test, y_train, y_test = train_test_split(X, y, test_size=0.2, random_state=42)\n"
      ],
      "metadata": {
        "id": "5KL9A_0zF1qP"
      },
      "execution_count": null,
      "outputs": []
    },
    {
      "cell_type": "markdown",
      "source": [
        "Choosing the KNN model"
      ],
      "metadata": {
        "id": "25Os0d8mF8z_"
      }
    },
    {
      "cell_type": "code",
      "source": [
        "knn = KNeighborsClassifier(n_neighbors=#)\n"
      ],
      "metadata": {
        "id": "rX9GBky2GBkf"
      },
      "execution_count": null,
      "outputs": []
    },
    {
      "cell_type": "markdown",
      "source": [
        "Solution:"
      ],
      "metadata": {
        "id": "InDCezx6F_0U"
      }
    },
    {
      "cell_type": "code",
      "source": [
        "\n",
        "knn = KNeighborsClassifier(n_neighbors=3)\n"
      ],
      "metadata": {
        "id": "r2SL1s-RF4YN"
      },
      "execution_count": null,
      "outputs": []
    },
    {
      "cell_type": "markdown",
      "source": [
        "Train the KNN Model"
      ],
      "metadata": {
        "id": "dWkGhgbKG7lU"
      }
    },
    {
      "cell_type": "code",
      "source": [
        "knn.fit(#, #)"
      ],
      "metadata": {
        "id": "esFrJ_PhHCQ0"
      },
      "execution_count": null,
      "outputs": []
    },
    {
      "cell_type": "markdown",
      "source": [
        "Solution:"
      ],
      "metadata": {
        "id": "Q_2m-A59HAkC"
      }
    },
    {
      "cell_type": "code",
      "source": [
        "knn.fit(X_train, y_train)"
      ],
      "metadata": {
        "colab": {
          "base_uri": "https://localhost:8080/",
          "height": 75
        },
        "id": "IltXFQvtG9kY",
        "outputId": "db28e4d1-911d-4c40-8381-31151ab46212"
      },
      "execution_count": null,
      "outputs": [
        {
          "output_type": "execute_result",
          "data": {
            "text/plain": [
              "KNeighborsClassifier(n_neighbors=3)"
            ],
            "text/html": [
              "<style>#sk-container-id-1 {color: black;background-color: white;}#sk-container-id-1 pre{padding: 0;}#sk-container-id-1 div.sk-toggleable {background-color: white;}#sk-container-id-1 label.sk-toggleable__label {cursor: pointer;display: block;width: 100%;margin-bottom: 0;padding: 0.3em;box-sizing: border-box;text-align: center;}#sk-container-id-1 label.sk-toggleable__label-arrow:before {content: \"▸\";float: left;margin-right: 0.25em;color: #696969;}#sk-container-id-1 label.sk-toggleable__label-arrow:hover:before {color: black;}#sk-container-id-1 div.sk-estimator:hover label.sk-toggleable__label-arrow:before {color: black;}#sk-container-id-1 div.sk-toggleable__content {max-height: 0;max-width: 0;overflow: hidden;text-align: left;background-color: #f0f8ff;}#sk-container-id-1 div.sk-toggleable__content pre {margin: 0.2em;color: black;border-radius: 0.25em;background-color: #f0f8ff;}#sk-container-id-1 input.sk-toggleable__control:checked~div.sk-toggleable__content {max-height: 200px;max-width: 100%;overflow: auto;}#sk-container-id-1 input.sk-toggleable__control:checked~label.sk-toggleable__label-arrow:before {content: \"▾\";}#sk-container-id-1 div.sk-estimator input.sk-toggleable__control:checked~label.sk-toggleable__label {background-color: #d4ebff;}#sk-container-id-1 div.sk-label input.sk-toggleable__control:checked~label.sk-toggleable__label {background-color: #d4ebff;}#sk-container-id-1 input.sk-hidden--visually {border: 0;clip: rect(1px 1px 1px 1px);clip: rect(1px, 1px, 1px, 1px);height: 1px;margin: -1px;overflow: hidden;padding: 0;position: absolute;width: 1px;}#sk-container-id-1 div.sk-estimator {font-family: monospace;background-color: #f0f8ff;border: 1px dotted black;border-radius: 0.25em;box-sizing: border-box;margin-bottom: 0.5em;}#sk-container-id-1 div.sk-estimator:hover {background-color: #d4ebff;}#sk-container-id-1 div.sk-parallel-item::after {content: \"\";width: 100%;border-bottom: 1px solid gray;flex-grow: 1;}#sk-container-id-1 div.sk-label:hover label.sk-toggleable__label {background-color: #d4ebff;}#sk-container-id-1 div.sk-serial::before {content: \"\";position: absolute;border-left: 1px solid gray;box-sizing: border-box;top: 0;bottom: 0;left: 50%;z-index: 0;}#sk-container-id-1 div.sk-serial {display: flex;flex-direction: column;align-items: center;background-color: white;padding-right: 0.2em;padding-left: 0.2em;position: relative;}#sk-container-id-1 div.sk-item {position: relative;z-index: 1;}#sk-container-id-1 div.sk-parallel {display: flex;align-items: stretch;justify-content: center;background-color: white;position: relative;}#sk-container-id-1 div.sk-item::before, #sk-container-id-1 div.sk-parallel-item::before {content: \"\";position: absolute;border-left: 1px solid gray;box-sizing: border-box;top: 0;bottom: 0;left: 50%;z-index: -1;}#sk-container-id-1 div.sk-parallel-item {display: flex;flex-direction: column;z-index: 1;position: relative;background-color: white;}#sk-container-id-1 div.sk-parallel-item:first-child::after {align-self: flex-end;width: 50%;}#sk-container-id-1 div.sk-parallel-item:last-child::after {align-self: flex-start;width: 50%;}#sk-container-id-1 div.sk-parallel-item:only-child::after {width: 0;}#sk-container-id-1 div.sk-dashed-wrapped {border: 1px dashed gray;margin: 0 0.4em 0.5em 0.4em;box-sizing: border-box;padding-bottom: 0.4em;background-color: white;}#sk-container-id-1 div.sk-label label {font-family: monospace;font-weight: bold;display: inline-block;line-height: 1.2em;}#sk-container-id-1 div.sk-label-container {text-align: center;}#sk-container-id-1 div.sk-container {/* jupyter's `normalize.less` sets `[hidden] { display: none; }` but bootstrap.min.css set `[hidden] { display: none !important; }` so we also need the `!important` here to be able to override the default hidden behavior on the sphinx rendered scikit-learn.org. See: https://github.com/scikit-learn/scikit-learn/issues/21755 */display: inline-block !important;position: relative;}#sk-container-id-1 div.sk-text-repr-fallback {display: none;}</style><div id=\"sk-container-id-1\" class=\"sk-top-container\"><div class=\"sk-text-repr-fallback\"><pre>KNeighborsClassifier(n_neighbors=3)</pre><b>In a Jupyter environment, please rerun this cell to show the HTML representation or trust the notebook. <br />On GitHub, the HTML representation is unable to render, please try loading this page with nbviewer.org.</b></div><div class=\"sk-container\" hidden><div class=\"sk-item\"><div class=\"sk-estimator sk-toggleable\"><input class=\"sk-toggleable__control sk-hidden--visually\" id=\"sk-estimator-id-1\" type=\"checkbox\" checked><label for=\"sk-estimator-id-1\" class=\"sk-toggleable__label sk-toggleable__label-arrow\">KNeighborsClassifier</label><div class=\"sk-toggleable__content\"><pre>KNeighborsClassifier(n_neighbors=3)</pre></div></div></div></div></div>"
            ]
          },
          "metadata": {},
          "execution_count": 18
        }
      ]
    },
    {
      "cell_type": "markdown",
      "source": [
        "Make Predictions with our model"
      ],
      "metadata": {
        "id": "yVs4TpuqHRaB"
      }
    },
    {
      "cell_type": "code",
      "source": [
        "y_pred = knn.predict(#)"
      ],
      "metadata": {
        "id": "ajaV5-ByHesS"
      },
      "execution_count": null,
      "outputs": []
    },
    {
      "cell_type": "markdown",
      "source": [
        "Solution:"
      ],
      "metadata": {
        "id": "LMZq2pgtHdiV"
      }
    },
    {
      "cell_type": "code",
      "source": [
        "y_pred = knn.predict(X_test)"
      ],
      "metadata": {
        "id": "kYd7YgfOHc84"
      },
      "execution_count": null,
      "outputs": []
    },
    {
      "cell_type": "markdown",
      "source": [
        "## **Evaluate our Model**"
      ],
      "metadata": {
        "id": "Ky92hWjlHVJy"
      }
    },
    {
      "cell_type": "code",
      "source": [
        "accuracy = accuracy_score(y_test, y_pred)\n",
        "print(\"Accuracy:\", accuracy)\n"
      ],
      "metadata": {
        "id": "PMtqkrRFHrNy"
      },
      "execution_count": null,
      "outputs": []
    },
    {
      "cell_type": "markdown",
      "source": [
        "How is your models performance? <br>\n",
        " do you feel ready to state making predictions on new players based on their stats?"
      ],
      "metadata": {
        "id": "2T8SgFTlH35R"
      }
    },
    {
      "cell_type": "markdown",
      "source": [
        "\n",
        "\n",
        "---\n",
        "\n"
      ],
      "metadata": {
        "id": "SZNwAHy2LFOT"
      }
    },
    {
      "cell_type": "markdown",
      "source": [
        "## **Launching our Model**"
      ],
      "metadata": {
        "id": "GARlKyJlIGf1"
      }
    },
    {
      "cell_type": "markdown",
      "source": [
        " let's a new player data in our trained KNN model to see if we can predict whether a new player might become an NBA All-Star."
      ],
      "metadata": {
        "id": "ZrN4R99nIOc5"
      }
    },
    {
      "cell_type": "markdown",
      "source": [
        "Gary\n",
        "\n",
        "Points: 17 Assists: 5 Rebounds: 8 Height (feet): 6.5 Weight (pounds): 210 Age: 50"
      ],
      "metadata": {
        "id": "5x7ZNKAhKcwR"
      }
    },
    {
      "cell_type": "code",
      "source": [
        "# Sample new player's data [Points, Assists, Rebounds, Height(feet), Weight(pounds), Age]\n",
        "Gary = [[17, 5, 8, 6.5, 210, 19]]\n",
        "\n",
        "# Predicting if the new player might become an NBA All-Star\n",
        "prediction = knn.predict(Gary)\n",
        "\n",
        "if prediction[0] == 1:\n",
        "    print(\"Wow! This player might become an NBA Star!\")\n",
        "else:\n",
        "    print(\"Hmm... This player might not become an NBA Star.\")"
      ],
      "metadata": {
        "id": "ClobBO1WKVvM"
      },
      "execution_count": null,
      "outputs": []
    },
    {
      "cell_type": "markdown",
      "source": [
        "Solution:"
      ],
      "metadata": {
        "id": "bBPdm-58KUek"
      }
    },
    {
      "cell_type": "code",
      "source": [
        "# Sample new player's data [Points, Assists, Rebounds, Height(feet), Weight(pounds), Age]\n",
        "Gary = [[17, 5, 8, 6.5, 210, 19]]\n",
        "\n",
        "# Predicting if the new player might become an NBA All-Star\n",
        "prediction = knn.predict(Gary)\n",
        "\n",
        "if prediction[0] == 1:\n",
        "    print(\"Wow! This player might become an NBA Star!\")\n",
        "else:\n",
        "    print(\"Hmm... This player might not become an NBA Star.\")\n"
      ],
      "metadata": {
        "colab": {
          "base_uri": "https://localhost:8080/"
        },
        "id": "ddzyhm3IITf4",
        "outputId": "037e255f-8734-4d04-a5a4-23ca17e84007"
      },
      "execution_count": null,
      "outputs": [
        {
          "output_type": "stream",
          "name": "stdout",
          "text": [
            "Hmm... This player might not become an NBA Star.\n"
          ]
        }
      ]
    },
    {
      "cell_type": "markdown",
      "source": [
        "## Let's test the bellow players to see their chances of getting drafted."
      ],
      "metadata": {
        "id": "hs3hVly6J57j"
      }
    },
    {
      "cell_type": "markdown",
      "source": [
        "### **Bronny** <br>\n",
        "\n",
        "**Points:** 25\n",
        "**Assists:** 7\n",
        "**Rebounds:** 9\n",
        "**Height :** 6.4\n",
        "**Weight :** 220\n",
        "**Age:** 26"
      ],
      "metadata": {
        "id": "tXPrHChqJpHo"
      }
    },
    {
      "cell_type": "code",
      "source": [
        "bronny_stats = [#Enter Player States Here]\n",
        "bronny_prediction = knn.predict([bronny_stats])\n",
        "if bronny_prediction[0] == 1:\n",
        "    print(\"Bronny might become an NBA All-Star!\")\n",
        "else:\n",
        "    print(\"Bronny might not become an NBA All-Star.\")\n"
      ],
      "metadata": {
        "id": "RylASXi1KS8E"
      },
      "execution_count": null,
      "outputs": []
    },
    {
      "cell_type": "markdown",
      "source": [
        "Solutions"
      ],
      "metadata": {
        "id": "4lKsbySYKRbJ"
      }
    },
    {
      "cell_type": "code",
      "source": [
        "bronny_stats = [25, 7, 9, 6.4, 220, 26]\n",
        "bronny_prediction = knn.predict([bronny_stats])\n",
        "if bronny_prediction[0] == 1:\n",
        "    print(\"Bronny might become an NBA All-Star!\")\n",
        "else:\n",
        "    print(\"Bronny might not become an NBA All-Star.\")\n"
      ],
      "metadata": {
        "id": "H7ir1dPeKQ_H",
        "colab": {
          "base_uri": "https://localhost:8080/"
        },
        "outputId": "6ac51d3c-5799-4d79-b7bf-98e31df5001a"
      },
      "execution_count": null,
      "outputs": [
        {
          "output_type": "stream",
          "name": "stdout",
          "text": [
            "Bronny might become an NBA All-Star!\n"
          ]
        }
      ]
    },
    {
      "cell_type": "markdown",
      "source": [
        "### **Tyran** <br>\n",
        "\n",
        "**Points:** 18\n",
        "**Assists:** 7\n",
        "**Rebounds:** 8\n",
        "**Height :** 6.6\n",
        "**Weight :** 2205\n",
        "**Age:** 24"
      ],
      "metadata": {
        "id": "GXB_8hlLK_0i"
      }
    },
    {
      "cell_type": "code",
      "source": [
        "tyran_stats = [#TYPE YOUR CODE HERE]\n",
        "tyran_prediction = knn.predict([tyran_stats])\n",
        "if tyran_prediction[0] == 1:\n",
        "    print(\"Tyran might become an NBA All-Star!\")\n",
        "else:\n",
        "    print(\"Tyran might not become an NBA All-Star.\")"
      ],
      "metadata": {
        "id": "0t2zZfl9LPRU"
      },
      "execution_count": null,
      "outputs": []
    },
    {
      "cell_type": "markdown",
      "source": [
        "Solution"
      ],
      "metadata": {
        "id": "2vDLZoiVLPp8"
      }
    },
    {
      "cell_type": "code",
      "source": [
        "tyran_stats = [28, 9, 10, 6.6, 215, 24]\n",
        "tyran_prediction = knn.predict([tyran_stats])\n",
        "if tyran_prediction[0] == 1:\n",
        "    print(\"Tyran might become an NBA All-Star!\")\n",
        "else:\n",
        "    print(\"Tyran might not become an NBA All-Star.\")"
      ],
      "metadata": {
        "id": "e-0wpxWMLQlJ",
        "colab": {
          "base_uri": "https://localhost:8080/"
        },
        "outputId": "e03c2163-fd7c-49f2-9ff7-14d930743428"
      },
      "execution_count": null,
      "outputs": [
        {
          "output_type": "stream",
          "name": "stdout",
          "text": [
            "Tyran might become an NBA All-Star!\n"
          ]
        }
      ]
    },
    {
      "cell_type": "markdown",
      "source": [
        "### **Kadary** <br>\n",
        "\n",
        "**Points:** 22\n",
        "**Assists:** 4\n",
        "**Rebounds:** 10\n",
        "**Height :** 6.9\n",
        "**Weight :** 235\n",
        "**Age:** 28"
      ],
      "metadata": {
        "id": "eME7QOa2LRRl"
      }
    },
    {
      "cell_type": "code",
      "source": [
        "kadary_stats = [#Enter Player States Here]\n",
        "kadary_prediction = knn.predict([kadary_stats])\n",
        "if kadary_prediction[0] == 1:\n",
        "    print(\"Kadary might become an NBA All-Star!\")\n",
        "else:\n",
        "    print(\"Kadary might not become an NBA All-Star.\")\n"
      ],
      "metadata": {
        "id": "UIeih5yoLaY1"
      },
      "execution_count": null,
      "outputs": []
    },
    {
      "cell_type": "markdown",
      "source": [
        "Solution:"
      ],
      "metadata": {
        "id": "2okjtgacLawP"
      }
    },
    {
      "cell_type": "code",
      "source": [
        "kadary_stats = [22, 4, 10, 6.9, 235, 28]\n",
        "kadary_prediction = knn.predict([kadary_stats])\n",
        "if kadary_prediction[0] == 1:\n",
        "    print(\"Kadary might become an NBA All-Star!\")\n",
        "else:\n",
        "    print(\"Kadary might not become an NBA All-Star.\")\n"
      ],
      "metadata": {
        "id": "5yjhPGXKLcKU",
        "colab": {
          "base_uri": "https://localhost:8080/"
        },
        "outputId": "a60b4db1-edbb-4e85-aa52-c186c8abec37"
      },
      "execution_count": null,
      "outputs": [
        {
          "output_type": "stream",
          "name": "stdout",
          "text": [
            "Kadary might become an NBA All-Star!\n"
          ]
        }
      ]
    },
    {
      "cell_type": "markdown",
      "source": [
        "### **Johnell** <br>\n",
        "\n",
        "**Points:** 12\n",
        "**Assists:** 5\n",
        "**Rebounds:** 6\n",
        "**Height :** 6.1\n",
        "**Weight :** 180\n",
        "**Age:** 22"
      ],
      "metadata": {
        "id": "UK41bq0WLeWE"
      }
    },
    {
      "cell_type": "code",
      "source": [
        "johnell_stats = [#Enter Player States Here]\n",
        "johnell_prediction = knn.predict([johnell_stats])\n",
        "if johnell_prediction[0] == 1:\n",
        "    print(\"Johnell might become an NBA All-Star!\")\n",
        "else:\n",
        "    print(\"Johnell might not become an NBA All-Star.\")\n"
      ],
      "metadata": {
        "id": "U1R3yzzfLlcb"
      },
      "execution_count": null,
      "outputs": []
    },
    {
      "cell_type": "markdown",
      "source": [
        "Solution:"
      ],
      "metadata": {
        "id": "x4D0EI7kLlzT"
      }
    },
    {
      "cell_type": "code",
      "source": [
        "johnell_stats = [12, 5, 6, 6.1, 180, 22]\n",
        "johnell_prediction = knn.predict([johnell_stats])\n",
        "if johnell_prediction[0] == 1:\n",
        "    print(\"Johnell might become an NBA All-Star!\")\n",
        "else:\n",
        "    print(\"Johnell might not become an NBA All-Star.\")\n"
      ],
      "metadata": {
        "id": "PRYa6vrqLmxP"
      },
      "execution_count": null,
      "outputs": []
    },
    {
      "cell_type": "markdown",
      "source": [
        "### **Davion** <br>\n",
        "\n",
        "**Points:** 30\n",
        "**Assists:** 8\n",
        "**Rebounds:** 11\n",
        "**Height :** 6.8\n",
        "**Weight :** 260\n",
        "**Age:** 29"
      ],
      "metadata": {
        "id": "PhAuXXBTLnx3"
      }
    },
    {
      "cell_type": "code",
      "source": [
        "davion_stats = [#Enter Player States Here]\n",
        "davion_prediction = knn.predict([davion_stats])\n",
        "if davion_prediction[0] == 1:\n",
        "    print(\"Davion might become an NBA All-Star!\")\n",
        "else:\n",
        "    print(\"Davion might not become an NBA All-Star.\")"
      ],
      "metadata": {
        "id": "Z3RMI1-mLt3S"
      },
      "execution_count": null,
      "outputs": []
    },
    {
      "cell_type": "markdown",
      "source": [
        "Solution"
      ],
      "metadata": {
        "id": "0ytIP40JLuN8"
      }
    },
    {
      "cell_type": "code",
      "source": [
        "davion_stats = [30, 8, 11, 6.8, 260, 29]\n",
        "davion_prediction = knn.predict([davion_stats])\n",
        "if davion_prediction[0] == 1:\n",
        "    print(\"Davion might become an NBA All-Star!\")\n",
        "else:\n",
        "    print(\"Davion might not become an NBA All-Star.\")"
      ],
      "metadata": {
        "id": "QwFkFF_mLvTp"
      },
      "execution_count": null,
      "outputs": []
    },
    {
      "cell_type": "code",
      "source": [
        "print(\"🎉🏀 Congratulations! 🏀🎉\")\n",
        "print(\"You've made some slam dunk predictions! 🚀💫\")"
      ],
      "metadata": {
        "colab": {
          "base_uri": "https://localhost:8080/"
        },
        "id": "zAwNMAkxMkF3",
        "outputId": "0c2bfad2-d206-41fb-94e9-df986c868328"
      },
      "execution_count": null,
      "outputs": [
        {
          "output_type": "stream",
          "name": "stdout",
          "text": [
            "🎉🏀 Congratulations! 🏀🎉\n",
            "You've made some slam dunk predictions! 🚀💫\n"
          ]
        }
      ]
    },
    {
      "cell_type": "markdown",
      "source": [],
      "metadata": {
        "id": "4sPLlpTjN_y5"
      }
    },
    {
      "cell_type": "code",
      "source": [
        "\n"
      ],
      "metadata": {
        "id": "nEvQ0RLROCKf"
      },
      "execution_count": null,
      "outputs": []
    },
    {
      "cell_type": "code",
      "source": [
        "certificate(\"Julienne\")\n"
      ],
      "metadata": {
        "colab": {
          "base_uri": "https://localhost:8080/"
        },
        "id": "MqOLk1pGON6F",
        "outputId": "2d05dede-78a1-4c83-c306-7407ed5fdbb7"
      },
      "execution_count": null,
      "outputs": [
        {
          "output_type": "stream",
          "name": "stdout",
          "text": [
            "************************************\n",
            "*                                  *\n",
            "*          CERTIFICATE OF          *\n",
            "*            ACHIEVEMENT           *\n",
            "*                                  *\n",
            "************************************\n",
            "\n",
            "This certifies that\n",
            "\n",
            "      JULIENNE\n",
            "\n",
            "has successfully completed the AI Explorer Bootcamp!\n",
            "\n",
            "Date: August, 2024\n",
            "\n",
            "Signature: ________________________\n",
            "\n",
            "Congratulations!\n",
            "Keep up the great work!\n"
          ]
        }
      ]
    }
  ]
}